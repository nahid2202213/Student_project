{
 "cells": [
  {
   "cell_type": "code",
   "execution_count": 1,
   "id": "72558ff1-362f-4c8f-bce3-3fdae3c522f2",
   "metadata": {},
   "outputs": [],
   "source": [
    "import pandas as pd\n",
    "import numpy as np\n",
    "\n",
    "class Student:\n",
    "    def __init__(self, name, student_id):\n",
    "        self.name = name\n",
    "        self.student_id = student_id\n",
    "        self.courses = []\n",
    "        self.cgpa = 0\n",
    "\n",
    "    def add_course(self, course_name, credit, gpa):\n",
    "        self.courses.append((course_name, credit, gpa))\n",
    "\n",
    "    def calculate_cgpa(self):\n",
    "        credits = np.array([c[1] for c in self.courses])\n",
    "        gpas = np.array([c[2] for c in self.courses])\n",
    "\n",
    "        total_credits = credits.sum()\n",
    "        total_points = (credits * gpas).sum()\n",
    "\n",
    "        self.cgpa = total_points / total_credits if total_credits > 0 else 0\n",
    "        return self.cgpa\n",
    "\n",
    "\n",
    "\n"
   ]
  },
  {
   "cell_type": "code",
   "execution_count": 2,
   "id": "66571682-3361-4a15-b00e-f54477c0d87c",
   "metadata": {},
   "outputs": [],
   "source": [
    "class StudentManager:\n",
    "    def __init__(self):\n",
    "        self.students = {}\n",
    "\n",
    "    def add_student(self):\n",
    "        name = input(\"Enter Student Name: \")\n",
    "        student_id = int(input(\"Enter Student ID: \"))\n",
    "\n",
    "        if student_id in self.students:\n",
    "            print(\"ID already exists.\")\n",
    "            return\n",
    "\n",
    "        student = Student(name, student_id)\n",
    "\n",
    "        course_number = int(input(\"Enter number of courses: \"))\n",
    "        for _ in range(course_number):\n",
    "            course_name = input(\"Enter Course Name: \")\n",
    "\n",
    "            # credit validation\n",
    "            while True:\n",
    "                credit = float(input(\"Enter Credit (0-3): \"))\n",
    "                if 0 <= credit <= 3:\n",
    "                    break\n",
    "                print(\"Invalid credit! Try again.\")\n",
    "\n",
    "            # GPA validation\n",
    "            while True:\n",
    "                gpa = float(input(\"Enter GPA (0-4): \"))\n",
    "                if 0 <= gpa <= 4:\n",
    "                    break\n",
    "                print(\"Invalid GPA! Try again.\")\n",
    "\n",
    "            student.add_course(course_name, credit, gpa)\n",
    "\n",
    "        student.calculate_cgpa()\n",
    "        self.students[student_id] = student\n",
    "        print(f\"{name} added with CGPA: {student.cgpa:.2f}\")\n",
    "\n",
    "    def to_dataframe(self):\n",
    "        data = {\n",
    "            \"ID\": [],\n",
    "            \"Name\": [],\n",
    "            \"CGPA\": []\n",
    "        }\n",
    "\n",
    "        for sid, student in self.students.items():\n",
    "            data[\"ID\"].append(student.student_id)\n",
    "            data[\"Name\"].append(student.name)\n",
    "            data[\"CGPA\"].append(student.cgpa)\n",
    "\n",
    "        df = pd.DataFrame(data)\n",
    "        return df\n",
    "\n",
    "    def show_results(self):\n",
    "        df = self.to_dataframe()\n",
    "        print(\"\\n--- All Students Results ---\")\n",
    "        print(df)\n",
    "\n",
    "        print(\"\\n Statistics:\")\n",
    "        print(\"Average CGPA:\", df[\"CGPA\"].mean())\n",
    "        print(\"Highest CGPA:\", df[\"CGPA\"].max())\n",
    "        print(\"Lowest CGPA:\", df[\"CGPA\"].min())\n",
    "\n"
   ]
  },
  {
   "cell_type": "code",
   "execution_count": 3,
   "id": "0c0980f6-62c1-48fe-847e-a2ef17892456",
   "metadata": {},
   "outputs": [
    {
     "name": "stdin",
     "output_type": "stream",
     "text": [
      "Enter Student Name:  nahid\n",
      "Enter Student ID:  1\n",
      "Enter number of courses:  2\n",
      "Enter Course Name:  eee\n",
      "Enter Credit (0-3):  3\n",
      "Enter GPA (0-4):  4\n",
      "Enter Course Name:  phy\n",
      "Enter Credit (0-3):  3\n",
      "Enter GPA (0-4):  4\n"
     ]
    },
    {
     "name": "stdout",
     "output_type": "stream",
     "text": [
      "nahid added with CGPA: 4.00\n"
     ]
    },
    {
     "name": "stdin",
     "output_type": "stream",
     "text": [
      "Add another student? (yes/no):  no\n"
     ]
    },
    {
     "name": "stdout",
     "output_type": "stream",
     "text": [
      "\n",
      "--- All Students Results ---\n",
      "   ID   Name  CGPA\n",
      "0   1  nahid   4.0\n",
      "\n",
      " Statistics:\n",
      "Average CGPA: 4.0\n",
      "Highest CGPA: 4.0\n",
      "Lowest CGPA: 4.0\n"
     ]
    }
   ],
   "source": [
    "# Main Program\n",
    "if __name__ == \"__main__\":\n",
    "    manager = StudentManager()\n",
    "\n",
    "    while True:\n",
    "        manager.add_student()\n",
    "        cont = input(\"Add another student? (yes/no): \").lower()\n",
    "        if cont != \"yes\":\n",
    "            break\n",
    "\n",
    "    manager.show_results()\n"
   ]
  },
  {
   "cell_type": "code",
   "execution_count": null,
   "id": "c629c36f-cada-407c-a011-a58d7735546a",
   "metadata": {},
   "outputs": [],
   "source": []
  }
 ],
 "metadata": {
  "kernelspec": {
   "display_name": "Python 3 (ipykernel)",
   "language": "python",
   "name": "python3"
  },
  "language_info": {
   "codemirror_mode": {
    "name": "ipython",
    "version": 3
   },
   "file_extension": ".py",
   "mimetype": "text/x-python",
   "name": "python",
   "nbconvert_exporter": "python",
   "pygments_lexer": "ipython3",
   "version": "3.13.5"
  }
 },
 "nbformat": 4,
 "nbformat_minor": 5
}
